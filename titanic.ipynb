{
 "cells": [
  {
   "cell_type": "code",
   "execution_count": 64,
   "metadata": {},
   "outputs": [
    {
     "name": "stdout",
     "output_type": "stream",
     "text": [
      "Requirement already satisfied: xgboost in /home/nbuser/anaconda3_501/lib/python3.6/site-packages (0.80)\n",
      "Requirement already satisfied: scipy in /home/nbuser/anaconda3_501/lib/python3.6/site-packages (from xgboost) (0.19.1)\n",
      "Requirement already satisfied: numpy in /home/nbuser/anaconda3_501/lib/python3.6/site-packages (from xgboost) (1.15.0)\n"
     ]
    }
   ],
   "source": [
    "!pip install xgboost"
   ]
  },
  {
   "cell_type": "code",
   "execution_count": 65,
   "metadata": {},
   "outputs": [],
   "source": [
    "import warnings\n",
    "warnings.simplefilter('ignore')\n",
    "import seaborn as sns\n",
    "import matplotlib.pyplot as plt\n",
    "import pandas as pd\n",
    "sns.set(style=\"darkgrid\")\n",
    "plt.rcParams[\"patch.force_edgecolor\"] = True"
   ]
  },
  {
   "cell_type": "code",
   "execution_count": 66,
   "metadata": {},
   "outputs": [],
   "source": [
    "df_train = pd.read_csv('train.csv')"
   ]
  },
  {
   "cell_type": "markdown",
   "metadata": {},
   "source": [
    "Lets see the no. of passengers in our training data"
   ]
  },
  {
   "cell_type": "code",
   "execution_count": 67,
   "metadata": {},
   "outputs": [
    {
     "name": "stdout",
     "output_type": "stream",
     "text": [
      "The no. of passengers in our training data are:  891\n"
     ]
    }
   ],
   "source": [
    "print(\"The no. of passengers in our training data are: \", len(df_train))"
   ]
  },
  {
   "cell_type": "code",
   "execution_count": 68,
   "metadata": {},
   "outputs": [
    {
     "data": {
      "text/html": [
       "<div>\n",
       "<style>\n",
       "    .dataframe thead tr:only-child th {\n",
       "        text-align: right;\n",
       "    }\n",
       "\n",
       "    .dataframe thead th {\n",
       "        text-align: left;\n",
       "    }\n",
       "\n",
       "    .dataframe tbody tr th {\n",
       "        vertical-align: top;\n",
       "    }\n",
       "</style>\n",
       "<table border=\"1\" class=\"dataframe\">\n",
       "  <thead>\n",
       "    <tr style=\"text-align: right;\">\n",
       "      <th></th>\n",
       "      <th>PassengerId</th>\n",
       "      <th>Survived</th>\n",
       "      <th>Pclass</th>\n",
       "      <th>Name</th>\n",
       "      <th>Sex</th>\n",
       "      <th>Age</th>\n",
       "      <th>SibSp</th>\n",
       "      <th>Parch</th>\n",
       "      <th>Ticket</th>\n",
       "      <th>Fare</th>\n",
       "      <th>Cabin</th>\n",
       "      <th>Embarked</th>\n",
       "    </tr>\n",
       "  </thead>\n",
       "  <tbody>\n",
       "    <tr>\n",
       "      <th>0</th>\n",
       "      <td>1</td>\n",
       "      <td>0</td>\n",
       "      <td>3</td>\n",
       "      <td>Braund, Mr. Owen Harris</td>\n",
       "      <td>male</td>\n",
       "      <td>22.0</td>\n",
       "      <td>1</td>\n",
       "      <td>0</td>\n",
       "      <td>A/5 21171</td>\n",
       "      <td>7.2500</td>\n",
       "      <td>NaN</td>\n",
       "      <td>S</td>\n",
       "    </tr>\n",
       "    <tr>\n",
       "      <th>1</th>\n",
       "      <td>2</td>\n",
       "      <td>1</td>\n",
       "      <td>1</td>\n",
       "      <td>Cumings, Mrs. John Bradley (Florence Briggs Th...</td>\n",
       "      <td>female</td>\n",
       "      <td>38.0</td>\n",
       "      <td>1</td>\n",
       "      <td>0</td>\n",
       "      <td>PC 17599</td>\n",
       "      <td>71.2833</td>\n",
       "      <td>C85</td>\n",
       "      <td>C</td>\n",
       "    </tr>\n",
       "    <tr>\n",
       "      <th>2</th>\n",
       "      <td>3</td>\n",
       "      <td>1</td>\n",
       "      <td>3</td>\n",
       "      <td>Heikkinen, Miss. Laina</td>\n",
       "      <td>female</td>\n",
       "      <td>26.0</td>\n",
       "      <td>0</td>\n",
       "      <td>0</td>\n",
       "      <td>STON/O2. 3101282</td>\n",
       "      <td>7.9250</td>\n",
       "      <td>NaN</td>\n",
       "      <td>S</td>\n",
       "    </tr>\n",
       "    <tr>\n",
       "      <th>3</th>\n",
       "      <td>4</td>\n",
       "      <td>1</td>\n",
       "      <td>1</td>\n",
       "      <td>Futrelle, Mrs. Jacques Heath (Lily May Peel)</td>\n",
       "      <td>female</td>\n",
       "      <td>35.0</td>\n",
       "      <td>1</td>\n",
       "      <td>0</td>\n",
       "      <td>113803</td>\n",
       "      <td>53.1000</td>\n",
       "      <td>C123</td>\n",
       "      <td>S</td>\n",
       "    </tr>\n",
       "    <tr>\n",
       "      <th>4</th>\n",
       "      <td>5</td>\n",
       "      <td>0</td>\n",
       "      <td>3</td>\n",
       "      <td>Allen, Mr. William Henry</td>\n",
       "      <td>male</td>\n",
       "      <td>35.0</td>\n",
       "      <td>0</td>\n",
       "      <td>0</td>\n",
       "      <td>373450</td>\n",
       "      <td>8.0500</td>\n",
       "      <td>NaN</td>\n",
       "      <td>S</td>\n",
       "    </tr>\n",
       "  </tbody>\n",
       "</table>\n",
       "</div>"
      ],
      "text/plain": [
       "   PassengerId  Survived  Pclass  \\\n",
       "0            1         0       3   \n",
       "1            2         1       1   \n",
       "2            3         1       3   \n",
       "3            4         1       1   \n",
       "4            5         0       3   \n",
       "\n",
       "                                                Name     Sex   Age  SibSp  \\\n",
       "0                            Braund, Mr. Owen Harris    male  22.0      1   \n",
       "1  Cumings, Mrs. John Bradley (Florence Briggs Th...  female  38.0      1   \n",
       "2                             Heikkinen, Miss. Laina  female  26.0      0   \n",
       "3       Futrelle, Mrs. Jacques Heath (Lily May Peel)  female  35.0      1   \n",
       "4                           Allen, Mr. William Henry    male  35.0      0   \n",
       "\n",
       "   Parch            Ticket     Fare Cabin Embarked  \n",
       "0      0         A/5 21171   7.2500   NaN        S  \n",
       "1      0          PC 17599  71.2833   C85        C  \n",
       "2      0  STON/O2. 3101282   7.9250   NaN        S  \n",
       "3      0            113803  53.1000  C123        S  \n",
       "4      0            373450   8.0500   NaN        S  "
      ]
     },
     "execution_count": 68,
     "metadata": {},
     "output_type": "execute_result"
    }
   ],
   "source": [
    "df_train.head()"
   ]
  },
  {
   "cell_type": "markdown",
   "metadata": {},
   "source": [
    "We can see that there are 9 features for every passenger. We have one binary predictor variable called 'Survived'. There are the following types of variables we need to analyse in this dataset:\n",
    "\n",
    "1. **Numerical or Continuous Variables**: They can have any value within a specified range. There can be infinitely many continous values in any given range. In the given dataset ***'Age'*** and ***'Fare'*** are continuous variables.\n",
    "\n",
    "\n",
    "2. **Categorical variables**: They only have discrete values. Like the ***'Sex'*** Column which has two values here namely 'male' and 'female'. The categorical variables are ***'Pclass'***, ***'Sex'***, ***'SibSp'***, ***'Parch'***, ***'Cabin'***, ***'Embarked'***.\n",
    "\n",
    "\n",
    "3. **Target Variable**: This is the variable we need to predict. It can be either continuous(Regression) or discrete(Classification) . In the given dataset our target variable, ***'Survived'*** is a binary categorical variable. It has only 2 values:   '1'(Survived) and '0'(Not Survived) \n",
    "\n",
    "\n",
    "Finally we have 3 more variables ***'PassengerId'***, ***'Name'*** and ***'Ticket'***. These will be unique for every passenger and only serve as an identification value. We don't need them in our analysis.\n"
   ]
  },
  {
   "cell_type": "code",
   "execution_count": 69,
   "metadata": {},
   "outputs": [],
   "source": [
    "numerical_cols = ['Age', 'Fare']\n",
    "categorical_cols = ['Pclass', 'Sex', 'SibSp', 'Parch', 'Cabin', 'Embarked']\n",
    "target_col = ['Survived']"
   ]
  },
  {
   "cell_type": "markdown",
   "metadata": {},
   "source": [
    "Lets observe the datatypes of each column"
   ]
  },
  {
   "cell_type": "code",
   "execution_count": 70,
   "metadata": {},
   "outputs": [
    {
     "data": {
      "text/plain": [
       "PassengerId      int64\n",
       "Survived         int64\n",
       "Pclass           int64\n",
       "Name            object\n",
       "Sex             object\n",
       "Age            float64\n",
       "SibSp            int64\n",
       "Parch            int64\n",
       "Ticket          object\n",
       "Fare           float64\n",
       "Cabin           object\n",
       "Embarked        object\n",
       "dtype: object"
      ]
     },
     "execution_count": 70,
     "metadata": {},
     "output_type": "execute_result"
    }
   ],
   "source": [
    "df_train.dtypes"
   ]
  },
  {
   "cell_type": "markdown",
   "metadata": {},
   "source": [
    "To make our process easier we will convert the categorical cols to the 'object' data type and the numerical cols to the 'float64' data type."
   ]
  },
  {
   "cell_type": "code",
   "execution_count": 71,
   "metadata": {},
   "outputs": [],
   "source": [
    "df_train[numerical_cols] = df_train[numerical_cols].astype('float64')\n",
    "df_train[categorical_cols] = df_train[categorical_cols].astype('object')"
   ]
  },
  {
   "cell_type": "markdown",
   "metadata": {},
   "source": [
    "### Data Cleaning\n",
    "\n",
    "An important aspect of every data science project is **data cleaning**. Data cleaning may involve the following steps:\n",
    "\n",
    "1. **Fixing up formats**\n",
    "2. **Filling in missing values**\n",
    "3. **Correcting erroneous value**\n",
    "4. **Standardizing categories**\n",
    "\n",
    "Please refer to the following link for a detailed explanation: \n",
    "https://www.kdnuggets.com/2016/03/doing-data-science-kaggle-walkthrough-cleaning-data.html\n",
    "\n",
    "\n",
    "To do data cleaning, we need to have a look at the summary of our dataset, through different columns. This is helpful through the ***describe()*** method of the dataframe object. We will apply describe() method seperately on:\n",
    "1. *Continuous Variables*\n",
    "2. *Object Variables*\n",
    "\n",
    "The columns to be described can be subset from the dataframe."
   ]
  },
  {
   "cell_type": "markdown",
   "metadata": {},
   "source": [
    "### 1. CONTINUOUS VARIABLES"
   ]
  },
  {
   "cell_type": "code",
   "execution_count": 72,
   "metadata": {},
   "outputs": [
    {
     "name": "stdout",
     "output_type": "stream",
     "text": [
      "<class 'pandas.core.frame.DataFrame'>\n",
      "RangeIndex: 891 entries, 0 to 890\n",
      "Data columns (total 2 columns):\n",
      "Age     714 non-null float64\n",
      "Fare    891 non-null float64\n",
      "dtypes: float64(2)\n",
      "memory usage: 14.0 KB\n"
     ]
    }
   ],
   "source": [
    "df_train[numerical_cols].info()"
   ]
  },
  {
   "cell_type": "markdown",
   "metadata": {},
   "source": [
    "We can see that the count of Age is 714. This suggests *missing/corrupted* values. It is very common to encounter missing values in Datasets. We will replace these missing values by the mean age."
   ]
  },
  {
   "cell_type": "code",
   "execution_count": 73,
   "metadata": {},
   "outputs": [
    {
     "name": "stdout",
     "output_type": "stream",
     "text": [
      "No. of missing values before:  177\n",
      "No. of missing values after:  0\n"
     ]
    }
   ],
   "source": [
    "print(\"No. of missing values before: \", df_train['Age'].isnull().sum())\n",
    "df_train['Age'].fillna(df_train['Age'].mean(), inplace = True)\n",
    "print(\"No. of missing values after: \", df_train['Age'].isnull().sum())"
   ]
  },
  {
   "cell_type": "markdown",
   "metadata": {},
   "source": [
    "### 2. CATEGORICAL VARIABLES"
   ]
  },
  {
   "cell_type": "code",
   "execution_count": 74,
   "metadata": {},
   "outputs": [
    {
     "data": {
      "text/html": [
       "<div>\n",
       "<style>\n",
       "    .dataframe thead tr:only-child th {\n",
       "        text-align: right;\n",
       "    }\n",
       "\n",
       "    .dataframe thead th {\n",
       "        text-align: left;\n",
       "    }\n",
       "\n",
       "    .dataframe tbody tr th {\n",
       "        vertical-align: top;\n",
       "    }\n",
       "</style>\n",
       "<table border=\"1\" class=\"dataframe\">\n",
       "  <thead>\n",
       "    <tr style=\"text-align: right;\">\n",
       "      <th></th>\n",
       "      <th>Pclass</th>\n",
       "      <th>Sex</th>\n",
       "      <th>SibSp</th>\n",
       "      <th>Parch</th>\n",
       "      <th>Cabin</th>\n",
       "      <th>Embarked</th>\n",
       "    </tr>\n",
       "  </thead>\n",
       "  <tbody>\n",
       "    <tr>\n",
       "      <th>count</th>\n",
       "      <td>891</td>\n",
       "      <td>891</td>\n",
       "      <td>891</td>\n",
       "      <td>891</td>\n",
       "      <td>204</td>\n",
       "      <td>889</td>\n",
       "    </tr>\n",
       "    <tr>\n",
       "      <th>unique</th>\n",
       "      <td>3</td>\n",
       "      <td>2</td>\n",
       "      <td>7</td>\n",
       "      <td>7</td>\n",
       "      <td>147</td>\n",
       "      <td>3</td>\n",
       "    </tr>\n",
       "    <tr>\n",
       "      <th>top</th>\n",
       "      <td>3</td>\n",
       "      <td>male</td>\n",
       "      <td>0</td>\n",
       "      <td>0</td>\n",
       "      <td>G6</td>\n",
       "      <td>S</td>\n",
       "    </tr>\n",
       "    <tr>\n",
       "      <th>freq</th>\n",
       "      <td>491</td>\n",
       "      <td>577</td>\n",
       "      <td>608</td>\n",
       "      <td>678</td>\n",
       "      <td>4</td>\n",
       "      <td>644</td>\n",
       "    </tr>\n",
       "  </tbody>\n",
       "</table>\n",
       "</div>"
      ],
      "text/plain": [
       "        Pclass   Sex  SibSp  Parch Cabin Embarked\n",
       "count      891   891    891    891   204      889\n",
       "unique       3     2      7      7   147        3\n",
       "top          3  male      0      0    G6        S\n",
       "freq       491   577    608    678     4      644"
      ]
     },
     "execution_count": 74,
     "metadata": {},
     "output_type": "execute_result"
    }
   ],
   "source": [
    "df_train[categorical_cols].describe()"
   ]
  },
  {
   "cell_type": "markdown",
   "metadata": {},
   "source": [
    "We observe inconsistency in the count of 2 cols:\n",
    "1. **'Cabin'** : It has a count of only 204. More than half of the observations are missing for this column, so we will remove this column.\n",
    "2. **'Embarked'**: It has a count of 889. Only 2 observations are missing. Since the column is *categorical* we will replace the missing values by the category with the highest frequency."
   ]
  },
  {
   "cell_type": "code",
   "execution_count": 75,
   "metadata": {},
   "outputs": [],
   "source": [
    "df_train.drop(['Cabin'], axis = 1, inplace = True)\n",
    "\n",
    "#Redefine the list of categorical cols\n",
    "categorical_cols = ['Pclass', 'Sex', 'SibSp', 'Parch', 'Embarked']\n",
    "\n",
    "#Replace the missing values with the most frequent category\n",
    "#value_counts() returns the frequencies of each category in descending order\n",
    "df_train['Embarked'].fillna(df_train['Embarked'].value_counts().index[0], inplace = True)"
   ]
  },
  {
   "cell_type": "markdown",
   "metadata": {},
   "source": [
    "Now we can do analysis of our dataset.\n",
    "\n",
    "### How many people survived the diasaster ?"
   ]
  },
  {
   "cell_type": "code",
   "execution_count": 76,
   "metadata": {},
   "outputs": [
    {
     "data": {
      "image/png": "[encoded data removed]",
      "text/plain": [
       "<matplotlib.figure.Figure at 0x7f03dbf91ac8>"
      ]
     },
     "metadata": {},
     "output_type": "display_data"
    }
   ],
   "source": [
    "total = len(df_train)\n",
    "ax = sns.countplot(x = 'Survived', data = df_train)\n",
    "\n",
    "#To add text as a percentage\n",
    "for p in ax.patches:\n",
    "    h, w, x = p.get_height(), p.get_width(), p.get_x()\n",
    "    ax.text(x + w/2, h + 3, '{:.2f}'.format(h/total), fontsize = 14)"
   ]
  },
  {
   "cell_type": "markdown",
   "metadata": {},
   "source": [
    "Only *38/%* of the people survived the diasaster."
   ]
  },
  {
   "cell_type": "markdown",
   "metadata": {},
   "source": [
    "### What was the survival rate for males and females?"
   ]
  },
  {
   "cell_type": "code",
   "execution_count": 77,
   "metadata": {},
   "outputs": [
    {
     "data": {
      "image/png": "[encoded data removed]",
      "text/plain": [
       "<matplotlib.figure.Figure at 0x7f03dba424a8>"
      ]
     },
     "metadata": {},
     "output_type": "display_data"
    }
   ],
   "source": [
    "ax = sns.countplot('Survived', hue = 'Sex', data = df_train)\n",
    "n_per_class = df_train['Sex'].value_counts()[['male', 'female']].values\n",
    "total = n_per_class[0]\n",
    "\n",
    "for i, p in enumerate(ax.patches):\n",
    "    h, w, x = p.get_height(), p.get_width(), p.get_x()\n",
    "    total = n_per_class[int(i/2)] if(i%2 == 0) else total\n",
    "    ax.text(x + w/3, h + 3, '{:.2f}'.format(h/total))"
   ]
  },
  {
   "cell_type": "markdown",
   "metadata": {},
   "source": [
    "Only *19%* of the men survived whereas *74%* of the the women survived."
   ]
  },
  {
   "cell_type": "markdown",
   "metadata": {},
   "source": [
    "### Which class of passengers had the better/worse chances of survival?"
   ]
  },
  {
   "cell_type": "code",
   "execution_count": 78,
   "metadata": {},
   "outputs": [
    {
     "data": {
      "text/html": [
       "<style  type=\"text/css\" >\n",
       "    #T_08bc5186_ac7c_11e8_85ad_00155d109fa7row0_col0 {\n",
       "            background-color:  #00ffff;\n",
       "        }    #T_08bc5186_ac7c_11e8_85ad_00155d109fa7row0_col1 {\n",
       "            background-color:  #31ceff;\n",
       "        }    #T_08bc5186_ac7c_11e8_85ad_00155d109fa7row0_col2 {\n",
       "            background-color:  #0bf4ff;\n",
       "        }    #T_08bc5186_ac7c_11e8_85ad_00155d109fa7row1_col0 {\n",
       "            background-color:  #09f6ff;\n",
       "        }    #T_08bc5186_ac7c_11e8_85ad_00155d109fa7row1_col1 {\n",
       "            background-color:  #00ffff;\n",
       "        }    #T_08bc5186_ac7c_11e8_85ad_00155d109fa7row1_col2 {\n",
       "            background-color:  #00ffff;\n",
       "        }    #T_08bc5186_ac7c_11e8_85ad_00155d109fa7row2_col0 {\n",
       "            background-color:  #9f60ff;\n",
       "        }    #T_08bc5186_ac7c_11e8_85ad_00155d109fa7row2_col1 {\n",
       "            background-color:  #20dfff;\n",
       "        }    #T_08bc5186_ac7c_11e8_85ad_00155d109fa7row2_col2 {\n",
       "            background-color:  #6f90ff;\n",
       "        }    #T_08bc5186_ac7c_11e8_85ad_00155d109fa7row3_col0 {\n",
       "            background-color:  #ff00ff;\n",
       "        }    #T_08bc5186_ac7c_11e8_85ad_00155d109fa7row3_col1 {\n",
       "            background-color:  #ff00ff;\n",
       "        }    #T_08bc5186_ac7c_11e8_85ad_00155d109fa7row3_col2 {\n",
       "            background-color:  #ff00ff;\n",
       "        }</style>  \n",
       "<table id=\"T_08bc5186_ac7c_11e8_85ad_00155d109fa7\" > \n",
       "<thead>    <tr> \n",
       "        <th class=\"index_name level0\" >Survived</th> \n",
       "        <th class=\"col_heading level0 col0\" >0</th> \n",
       "        <th class=\"col_heading level0 col1\" >1</th> \n",
       "        <th class=\"col_heading level0 col2\" >All</th> \n",
       "    </tr>    <tr> \n",
       "        <th class=\"index_name level0\" >Pclass</th> \n",
       "        <th class=\"blank\" ></th> \n",
       "        <th class=\"blank\" ></th> \n",
       "        <th class=\"blank\" ></th> \n",
       "    </tr></thead> \n",
       "<tbody>    <tr> \n",
       "        <th id=\"T_08bc5186_ac7c_11e8_85ad_00155d109fa7level0_row0\" class=\"row_heading level0 row0\" >1</th> \n",
       "        <td id=\"T_08bc5186_ac7c_11e8_85ad_00155d109fa7row0_col0\" class=\"data row0 col0\" >80</td> \n",
       "        <td id=\"T_08bc5186_ac7c_11e8_85ad_00155d109fa7row0_col1\" class=\"data row0 col1\" >136</td> \n",
       "        <td id=\"T_08bc5186_ac7c_11e8_85ad_00155d109fa7row0_col2\" class=\"data row0 col2\" >216</td> \n",
       "    </tr>    <tr> \n",
       "        <th id=\"T_08bc5186_ac7c_11e8_85ad_00155d109fa7level0_row1\" class=\"row_heading level0 row1\" >2</th> \n",
       "        <td id=\"T_08bc5186_ac7c_11e8_85ad_00155d109fa7row1_col0\" class=\"data row1 col0\" >97</td> \n",
       "        <td id=\"T_08bc5186_ac7c_11e8_85ad_00155d109fa7row1_col1\" class=\"data row1 col1\" >87</td> \n",
       "        <td id=\"T_08bc5186_ac7c_11e8_85ad_00155d109fa7row1_col2\" class=\"data row1 col2\" >184</td> \n",
       "    </tr>    <tr> \n",
       "        <th id=\"T_08bc5186_ac7c_11e8_85ad_00155d109fa7level0_row2\" class=\"row_heading level0 row2\" >3</th> \n",
       "        <td id=\"T_08bc5186_ac7c_11e8_85ad_00155d109fa7row2_col0\" class=\"data row2 col0\" >372</td> \n",
       "        <td id=\"T_08bc5186_ac7c_11e8_85ad_00155d109fa7row2_col1\" class=\"data row2 col1\" >119</td> \n",
       "        <td id=\"T_08bc5186_ac7c_11e8_85ad_00155d109fa7row2_col2\" class=\"data row2 col2\" >491</td> \n",
       "    </tr>    <tr> \n",
       "        <th id=\"T_08bc5186_ac7c_11e8_85ad_00155d109fa7level0_row3\" class=\"row_heading level0 row3\" >All</th> \n",
       "        <td id=\"T_08bc5186_ac7c_11e8_85ad_00155d109fa7row3_col0\" class=\"data row3 col0\" >549</td> \n",
       "        <td id=\"T_08bc5186_ac7c_11e8_85ad_00155d109fa7row3_col1\" class=\"data row3 col1\" >342</td> \n",
       "        <td id=\"T_08bc5186_ac7c_11e8_85ad_00155d109fa7row3_col2\" class=\"data row3 col2\" >891</td> \n",
       "    </tr></tbody> \n",
       "</table> "
      ],
      "text/plain": [
       "<pandas.io.formats.style.Styler at 0x7f03dd4c8208>"
      ]
     },
     "execution_count": 78,
     "metadata": {},
     "output_type": "execute_result"
    },
    {
     "data": {
      "image/png": "[encoded data removed]",
      "text/plain": [
       "<matplotlib.figure.Figure at 0x7f03dbffd240>"
      ]
     },
     "metadata": {},
     "output_type": "display_data"
    }
   ],
   "source": [
    "plt.figure(figsize= (15, 4))\n",
    "plt.subplot(121)\n",
    "sns.pointplot(y = 'Survived', x = 'Pclass', data = df_train)\n",
    "\n",
    "plt.subplot(122)\n",
    "ax = sns.countplot('Survived', hue = 'Pclass', data = df_train)\n",
    "n_per_class = df_train['Pclass'].value_counts()[[1, 2 ,3]].values\n",
    "total = n_per_class[0]\n",
    "\n",
    "for i, p in enumerate(ax.patches):\n",
    "    h, w, x = p.get_height(), p.get_width(), p.get_x()\n",
    "    total = n_per_class[int(i/2)] if(i%2 == 0) else total\n",
    "    ax.text(x + w/3, h + 3, '{:.2f}'.format(h/total))\n",
    "    \n",
    "pd.crosstab(df_train['Pclass'], df_train['Survived'], margins = True).style.background_gradient(cmap = 'cool')\n"
   ]
  },
  {
   "cell_type": "markdown",
   "metadata": {},
   "source": [
    "Therefore in <br/>\n",
    "Class 1: *63%* of the people survived.<br/>\n",
    "Class 2: *47%* of the people Survived.<br/>\n",
    "Class 3: *24%* of the people only survived.\n",
    "\n",
    "We get an almost linear relationship between survival chances and the passengers class. Clearly survival rate decreases as we move from Class 1 to Class 3."
   ]
  },
  {
   "cell_type": "markdown",
   "metadata": {},
   "source": [
    "### Parch and SibSp"
   ]
  },
  {
   "cell_type": "markdown",
   "metadata": {},
   "source": [
    "The columns 'Parch' and 'SibSp' stand for 'Parents and Children', 'Siblings'. We can combine these two columns into a new column called 'Relatives' by simply adding the prior columns. Manual Feature Engineering Like this can help us improve our score."
   ]
  },
  {
   "cell_type": "code",
   "execution_count": 79,
   "metadata": {},
   "outputs": [],
   "source": [
    "df_train['Relatives'] = df_train['Parch'] + df_train['SibSp']\n",
    "df_train.drop(['Parch', 'SibSp'], axis = 1, inplace = True)"
   ]
  },
  {
   "cell_type": "markdown",
   "metadata": {},
   "source": [
    "### How does the number of relatives affect the survival chances?"
   ]
  },
  {
   "cell_type": "code",
   "execution_count": 80,
   "metadata": {},
   "outputs": [
    {
     "data": {
      "text/plain": [
       "0     537\n",
       "1     161\n",
       "2     102\n",
       "3      29\n",
       "5      22\n",
       "4      15\n",
       "6      12\n",
       "10      7\n",
       "7       6\n",
       "Name: Relatives, dtype: int64"
      ]
     },
     "execution_count": 80,
     "metadata": {},
     "output_type": "execute_result"
    }
   ],
   "source": [
    "df_train.Relatives.value_counts()"
   ]
  },
  {
   "cell_type": "code",
   "execution_count": 81,
   "metadata": {},
   "outputs": [
    {
     "data": {
      "image/png": "[encoded data removed]",
      "text/plain": [
       "<matplotlib.figure.Figure at 0x7f03dbf46048>"
      ]
     },
     "metadata": {},
     "output_type": "display_data"
    }
   ],
   "source": [
    "plt.figure(figsize= (15, 4))\n",
    "\n",
    "plt.subplot(121)\n",
    "ax = sns.pointplot(x = 'Relatives', y = 'Survived', data = df_train)\n",
    "ax.set_xlabel(\"No. of relatives\")\n",
    "\n",
    "plt.subplot(122)\n",
    "ax = sns.countplot('Relatives', data = df_train)\n",
    "for p in ax.patches:\n",
    "    h, w, x = p.get_height(), p.get_width(), p.get_x()\n",
    "    ax.text(x + w/4, h + 3, h)"
   ]
  },
  {
   "cell_type": "markdown",
   "metadata": {},
   "source": [
    "We obersve the following things from the above graph:\n",
    "\n",
    "1. People with 3 relatives have the highest chances of survival(29 people in total)\n",
    "2. Surival rate is higher for people with 1 to 3 relatives\n",
    "3. People having more than 3 relatives have very low chances of survival."
   ]
  },
  {
   "cell_type": "markdown",
   "metadata": {},
   "source": [
    "### Does the place where the ship was embarked affect survival chances?"
   ]
  },
  {
   "cell_type": "code",
   "execution_count": 82,
   "metadata": {},
   "outputs": [
    {
     "data": {
      "image/png": "[encoded data removed]",
      "text/plain": [
       "<matplotlib.figure.Figure at 0x7f03dcbf62b0>"
      ]
     },
     "metadata": {},
     "output_type": "display_data"
    }
   ],
   "source": [
    "plt.figure(figsize= (15, 4))\n",
    "\n",
    "plt.subplot(121)\n",
    "sns.pointplot(x = 'Embarked', y = 'Survived', data = df_train)\n",
    "\n",
    "plt.subplot(122)\n",
    "ax = sns.countplot('Embarked', data = df_train)\n",
    "for p in ax.patches:\n",
    "    h, w, x = p.get_height(), p.get_width(), p.get_x()\n",
    "    ax.text(x + w/4, h + 3, h)"
   ]
  },
  {
   "cell_type": "markdown",
   "metadata": {},
   "source": [
    "We can draw the following observations:\n",
    "\n",
    "1. Most passengers have embarked from point S, which has the lowest chances of survival.\n",
    "2. Passengers embarking from point C, have the highest chances of survival."
   ]
  },
  {
   "cell_type": "markdown",
   "metadata": {},
   "source": [
    "## Numerical or Continuous Cols"
   ]
  },
  {
   "cell_type": "markdown",
   "metadata": {},
   "source": [
    "It is often useful to visualize the distribution of data in a continuous variable. We have two continous variables 'Age' and 'Fare'. Distribution of data becomes easy to visualize using ***boxplots***. "
   ]
  },
  {
   "cell_type": "code",
   "execution_count": 83,
   "metadata": {},
   "outputs": [
    {
     "data": {
      "text/html": [
       "<div>\n",
       "<style>\n",
       "    .dataframe thead tr:only-child th {\n",
       "        text-align: right;\n",
       "    }\n",
       "\n",
       "    .dataframe thead th {\n",
       "        text-align: left;\n",
       "    }\n",
       "\n",
       "    .dataframe tbody tr th {\n",
       "        vertical-align: top;\n",
       "    }\n",
       "</style>\n",
       "<table border=\"1\" class=\"dataframe\">\n",
       "  <thead>\n",
       "    <tr style=\"text-align: right;\">\n",
       "      <th></th>\n",
       "      <th>Age</th>\n",
       "      <th>Fare</th>\n",
       "    </tr>\n",
       "  </thead>\n",
       "  <tbody>\n",
       "    <tr>\n",
       "      <th>count</th>\n",
       "      <td>891.000000</td>\n",
       "      <td>891.000000</td>\n",
       "    </tr>\n",
       "    <tr>\n",
       "      <th>mean</th>\n",
       "      <td>29.699118</td>\n",
       "      <td>32.204208</td>\n",
       "    </tr>\n",
       "    <tr>\n",
       "      <th>std</th>\n",
       "      <td>13.002015</td>\n",
       "      <td>49.693429</td>\n",
       "    </tr>\n",
       "    <tr>\n",
       "      <th>min</th>\n",
       "      <td>0.420000</td>\n",
       "      <td>0.000000</td>\n",
       "    </tr>\n",
       "    <tr>\n",
       "      <th>25%</th>\n",
       "      <td>22.000000</td>\n",
       "      <td>7.910400</td>\n",
       "    </tr>\n",
       "    <tr>\n",
       "      <th>50%</th>\n",
       "      <td>29.699118</td>\n",
       "      <td>14.454200</td>\n",
       "    </tr>\n",
       "    <tr>\n",
       "      <th>75%</th>\n",
       "      <td>35.000000</td>\n",
       "      <td>31.000000</td>\n",
       "    </tr>\n",
       "    <tr>\n",
       "      <th>max</th>\n",
       "      <td>80.000000</td>\n",
       "      <td>512.329200</td>\n",
       "    </tr>\n",
       "  </tbody>\n",
       "</table>\n",
       "</div>"
      ],
      "text/plain": [
       "              Age        Fare\n",
       "count  891.000000  891.000000\n",
       "mean    29.699118   32.204208\n",
       "std     13.002015   49.693429\n",
       "min      0.420000    0.000000\n",
       "25%     22.000000    7.910400\n",
       "50%     29.699118   14.454200\n",
       "75%     35.000000   31.000000\n",
       "max     80.000000  512.329200"
      ]
     },
     "execution_count": 83,
     "metadata": {},
     "output_type": "execute_result"
    }
   ],
   "source": [
    "df_train[numerical_cols].describe()"
   ]
  },
  {
   "cell_type": "code",
   "execution_count": 84,
   "metadata": {},
   "outputs": [
    {
     "data": {
      "text/plain": [
       "<matplotlib.axes._subplots.AxesSubplot at 0x7f03dbecc898>"
      ]
     },
     "execution_count": 84,
     "metadata": {},
     "output_type": "execute_result"
    },
    {
     "data": {
      "image/png": "[encoded data removed]",
      "text/plain": [
       "<matplotlib.figure.Figure at 0x7f03dcbc2cf8>"
      ]
     },
     "metadata": {},
     "output_type": "display_data"
    }
   ],
   "source": [
    "plt.figure(figsize = (15, 4))\n",
    "plt.subplot(121)\n",
    "sns.boxplot(x = df_train['Age'])\n",
    "plt.subplot(122)\n",
    "sns.boxplot(x = df_train['Fare'])"
   ]
  },
  {
   "cell_type": "markdown",
   "metadata": {},
   "source": [
    "**Observations**:\n",
    "\n",
    "1. ***AGE***: We can see that 50% of the passengers had age ranging between 22 to 35 years. The distribution is spread out indicating that it may come useful in our analysis.\n",
    "\n",
    "2. ***FARE***: The box distribution for fare is very thin, indicating that most of the data in concentrated in a very small region. From the desribe() function above we can see that 50% of the fare is between 7 and 15, which is quite small comapared to the minimum and maximum values of 0 and 512. This distribution of fare gives us a hint that it is unlikely to help much in predicting the survival of passenger. Fare also has a large number of outliers indicated by the black dots."
   ]
  },
  {
   "cell_type": "markdown",
   "metadata": {},
   "source": [
    "We will further extend out analysis on Age, since it seems more interesting. This can be done by splitting age into categories. One obvious thing that comes into our mind is how the age varies for people who survived and who did not. A better insight can be gained be splitting it by sex."
   ]
  },
  {
   "cell_type": "code",
   "execution_count": 85,
   "metadata": {},
   "outputs": [
    {
     "data": {
      "image/png": "[encoded data removed]",
      "text/plain": [
       "<matplotlib.figure.Figure at 0x7f03dbf65898>"
      ]
     },
     "metadata": {},
     "output_type": "display_data"
    }
   ],
   "source": [
    "import numpy as np\n",
    "sns.violinplot(x='Survived', y='Age', hue='Sex', data=df_train)\n",
    "_ = plt.yticks(np.arange(0, 100, 10))"
   ]
  },
  {
   "cell_type": "markdown",
   "metadata": {},
   "source": [
    "Titanic was known for following the rule of saving women and children first. Well lets have a brief check of that this theory"
   ]
  },
  {
   "cell_type": "code",
   "execution_count": 86,
   "metadata": {},
   "outputs": [
    {
     "name": "stdout",
     "output_type": "stream",
     "text": [
      "Percentage of male children survived =  65.21739130434783\n",
      "Percentage of female children survived =  70.58823529411765\n"
     ]
    }
   ],
   "source": [
    "under_age = df_train['Age'] < 5\n",
    "male = df_train['Sex'] == 'male'\n",
    "survived = df_train['Survived']\n",
    "print('Percentage of male children survived = ', ((male & under_age & survived).sum() / (male & under_age).sum())*100)\n",
    "print('Percentage of female children survived = ', ((~male & under_age & survived).sum() / (~male & under_age).sum())*100)"
   ]
  },
  {
   "cell_type": "markdown",
   "metadata": {},
   "source": [
    "***Lets get down to the most interesting part. Yes you are right, I am talking about predictions***"
   ]
  },
  {
   "cell_type": "code",
   "execution_count": 87,
   "metadata": {},
   "outputs": [],
   "source": [
    "import numpy as np\n",
    "from sklearn.model_selection import train_test_split, cross_val_score\n",
    "from sklearn.pipeline import make_pipeline, Pipeline\n",
    "from sklearn.preprocessing import FunctionTransformer\n",
    "from sklearn.pipeline import FeatureUnion\n",
    "from sklearn.preprocessing import Imputer, StandardScaler\n",
    "from xgboost import XGBClassifier"
   ]
  },
  {
   "cell_type": "markdown",
   "metadata": {},
   "source": [
    "Pipeline is very useful to split your worklflow into steps. The output of one step is sent as the input to the next step. The final step must be a classification model.\n",
    "The steps we need to perform are:\n",
    "\n",
    "1. Break the features into ***Categorical*** and ***Numerical*** Columns\n",
    "\n",
    "2. For ***Categorical*** Columns:\n",
    "    1. ***Impute*** the Missing Values using ***largest frequency*** category\n",
    "    2. Get dummies or ***one hot encoding*** of the categorical columns using ***pd.get_dummies()***\n",
    "    3. Perform ***Feature Engineering***(You can try this but I am not going to do it here).\n",
    "    \n",
    "   For ***Numerical*** Columns:\n",
    "    1. ***Impute*** the Missing Values using the ***mean***.\n",
    "    2. ***Scale*** them to have a mean of 0 and a variance of 1\n",
    "    3. Perform ***Feature Engineering***\n",
    "    \n",
    "3. Combine the Categorical and Numerical Columns using FeatureUnion.\n",
    "\n",
    "4. Fit the combined features and labels using an appropriate classifier\n",
    "\n"
   ]
  },
  {
   "cell_type": "code",
   "execution_count": 88,
   "metadata": {},
   "outputs": [],
   "source": [
    "df_train = pd.read_csv('train.csv')"
   ]
  },
  {
   "cell_type": "code",
   "execution_count": 89,
   "metadata": {},
   "outputs": [],
   "source": [
    "cont_cols = ['Age', 'Fare', 'SibSp', 'Parch']\n",
    "cat_cols = ['Pclass', 'Sex','Embarked']\n",
    "\n",
    "select_cat_cols = FunctionTransformer(lambda x: x[cat_cols], validate=False)\n",
    "select_cont_cols = FunctionTransformer(lambda x: x[cont_cols], validate=False)\n",
    "select_one_hot = FunctionTransformer(lambda x: pd.get_dummies(x), validate=False)"
   ]
  },
  {
   "cell_type": "code",
   "execution_count": 90,
   "metadata": {},
   "outputs": [],
   "source": [
    "def feature_eng(df):\n",
    "    df['Relatives'] = df['SibSp'] + df['Parch']\n",
    "    df.drop(['SibSp', 'Parch'], axis = 1, inplace=True)\n",
    "    return df\n",
    "\n",
    "feature_eng = FunctionTransformer(feature_eng, validate=False)\n",
    "df_cont_imputer = FunctionTransformer(lambda x: x.fillna(x.mean(axis=0)), validate=False)\n",
    "df_cat_imputer = FunctionTransformer(lambda x: x.fillna(x.mode(axis=0)), validate=False)"
   ]
  },
  {
   "cell_type": "code",
   "execution_count": 91,
   "metadata": {},
   "outputs": [],
   "source": [
    "process_cat_cols = Pipeline([('selector', select_cat_cols), \n",
    "                             ('imputer', df_cat_imputer),\n",
    "                             ('dummies', select_one_hot)])\n",
    "\n",
    "process_cont_cols = Pipeline([('selector', select_cont_cols),\n",
    "                              ('imputer', df_cont_imputer),\n",
    "                              ('Feature Engineering', feature_eng),\n",
    "                              ('scaler', StandardScaler())])\n",
    "\n",
    "join_cat_cont = FeatureUnion(transformer_list = [('cat', process_cat_cols), ('cont', process_cont_cols)])\n",
    "pipeline = make_pipeline(join_cat_cont, XGBClassifier(n_estimators=10))"
   ]
  },
  {
   "cell_type": "code",
   "execution_count": 92,
   "metadata": {},
   "outputs": [
    {
     "data": {
      "text/plain": [
       "Pipeline(memory=None,\n",
       "     steps=[('featureunion', FeatureUnion(n_jobs=1,\n",
       "       transformer_list=[('cat', Pipeline(memory=None,\n",
       "     steps=[('selector', FunctionTransformer(accept_sparse=False,\n",
       "          func=<function <lambda> at 0x7f03dbaa1730>, inv_kw_args=None,\n",
       "          inverse_func=None, kw_args=None, pass_y='deprecate...\n",
       "       reg_alpha=0, reg_lambda=1, scale_pos_weight=1, seed=None,\n",
       "       silent=True, subsample=1))])"
      ]
     },
     "execution_count": 92,
     "metadata": {},
     "output_type": "execute_result"
    }
   ],
   "source": [
    "pipeline.fit(df_train, df_train['Survived'])"
   ]
  },
  {
   "cell_type": "markdown",
   "metadata": {},
   "source": [
    "Our pipeline looks good. Lets get a measure of how well our pipeline performs using the cross_val_score"
   ]
  },
  {
   "cell_type": "code",
   "execution_count": 93,
   "metadata": {},
   "outputs": [
    {
     "name": "stdout",
     "output_type": "stream",
     "text": [
      "0.8181818181818182\n",
      "0.8338945005611672\n"
     ]
    }
   ],
   "source": [
    "print(cross_val_score(pipeline, df_train, df_train['Survived']).mean())\n",
    "print(pipeline.score(df_train, df_train['Survived']))"
   ]
  },
  {
   "cell_type": "code",
   "execution_count": 94,
   "metadata": {},
   "outputs": [
    {
     "data": {
      "text/plain": [
       "0    263\n",
       "1    155\n",
       "Name: Survived, dtype: int64"
      ]
     },
     "execution_count": 94,
     "metadata": {},
     "output_type": "execute_result"
    }
   ],
   "source": [
    "df_test = pd.read_csv('test.csv')\n",
    "predictions = pipeline.predict(df_test)\n",
    "df_pred = pd.DataFrame({'PassengerId' : df_test['PassengerId'], 'Survived' : predictions})\n",
    "df_pred.to_csv('titanic.csv', index = False)\n",
    "pd.read_csv('titanic.csv')['Survived'].value_counts()"
   ]
  }
 ],
 "metadata": {
  "kernelspec": {
   "display_name": "Python 3.6",
   "language": "python",
   "name": "python36"
  },
  "language_info": {
   "codemirror_mode": {
    "name": "ipython",
    "version": 3
   },
   "file_extension": ".py",
   "mimetype": "text/x-python",
   "name": "python",
   "nbconvert_exporter": "python",
   "pygments_lexer": "ipython3",
   "version": "3.6.3"
  }
 },
 "nbformat": 4,
 "nbformat_minor": 2
}
